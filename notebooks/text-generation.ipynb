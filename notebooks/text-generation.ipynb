{
 "cells": [
  {
   "cell_type": "markdown",
   "id": "6ae5f996",
   "metadata": {},
   "source": [
    "4. Génération de texte conditionnée\n",
    "- Implémenter un système de génération basé sur un modèle pré-entraîné (ex : GPT…).\n",
    "- Injecter l’émotion détectée ou choisie comme condition dans la génération du texte.\n",
    "- Étudier différentes méthodes:\n",
    "- Ajout d’un token émotionnel en entrée.\n",
    "- Modification du prompt (prompt engineering).\n",
    "- Fine-tuning du modèle sur un corpus étiqueté."
   ]
  },
  {
   "cell_type": "code",
   "execution_count": 4,
   "id": "118954f5",
   "metadata": {},
   "outputs": [
    {
     "name": "stderr",
     "output_type": "stream",
     "text": [
      "huggingface/tokenizers: The current process just got forked, after parallelism has already been used. Disabling parallelism to avoid deadlocks...\n",
      "To disable this warning, you can either:\n",
      "\t- Avoid using `tokenizers` before the fork if possible\n",
      "\t- Explicitly set the environment variable TOKENIZERS_PARALLELISM=(true | false)\n"
     ]
    },
    {
     "name": "stdout",
     "output_type": "stream",
     "text": [
      "Requirement already satisfied: torch in /home/lux/.pyenv/versions/general/lib/python3.12/site-packages (2.7.1)\n",
      "Requirement already satisfied: transformers in /home/lux/.pyenv/versions/general/lib/python3.12/site-packages (4.52.4)\n",
      "Requirement already satisfied: tf-keras in /home/lux/.pyenv/versions/general/lib/python3.12/site-packages (2.19.0)\n",
      "Requirement already satisfied: dotenv in /home/lux/.pyenv/versions/general/lib/python3.12/site-packages (0.9.9)\n",
      "Requirement already satisfied: accelerate in /home/lux/.pyenv/versions/general/lib/python3.12/site-packages (1.8.1)\n",
      "Requirement already satisfied: filelock in /home/lux/.pyenv/versions/general/lib/python3.12/site-packages (from torch) (3.18.0)\n",
      "Requirement already satisfied: typing-extensions>=4.10.0 in /home/lux/.pyenv/versions/general/lib/python3.12/site-packages (from torch) (4.13.2)\n",
      "Requirement already satisfied: setuptools in /home/lux/.pyenv/versions/general/lib/python3.12/site-packages (from torch) (75.8.2)\n",
      "Requirement already satisfied: sympy>=1.13.3 in /home/lux/.pyenv/versions/general/lib/python3.12/site-packages (from torch) (1.14.0)\n",
      "Requirement already satisfied: networkx in /home/lux/.pyenv/versions/general/lib/python3.12/site-packages (from torch) (3.4.2)\n",
      "Requirement already satisfied: jinja2 in /home/lux/.pyenv/versions/general/lib/python3.12/site-packages (from torch) (3.1.6)\n",
      "Requirement already satisfied: fsspec in /home/lux/.pyenv/versions/general/lib/python3.12/site-packages (from torch) (2025.5.1)\n",
      "Requirement already satisfied: nvidia-cuda-nvrtc-cu12==12.6.77 in /home/lux/.pyenv/versions/general/lib/python3.12/site-packages (from torch) (12.6.77)\n",
      "Requirement already satisfied: nvidia-cuda-runtime-cu12==12.6.77 in /home/lux/.pyenv/versions/general/lib/python3.12/site-packages (from torch) (12.6.77)\n",
      "Requirement already satisfied: nvidia-cuda-cupti-cu12==12.6.80 in /home/lux/.pyenv/versions/general/lib/python3.12/site-packages (from torch) (12.6.80)\n",
      "Requirement already satisfied: nvidia-cudnn-cu12==9.5.1.17 in /home/lux/.pyenv/versions/general/lib/python3.12/site-packages (from torch) (9.5.1.17)\n",
      "Requirement already satisfied: nvidia-cublas-cu12==12.6.4.1 in /home/lux/.pyenv/versions/general/lib/python3.12/site-packages (from torch) (12.6.4.1)\n",
      "Requirement already satisfied: nvidia-cufft-cu12==11.3.0.4 in /home/lux/.pyenv/versions/general/lib/python3.12/site-packages (from torch) (11.3.0.4)\n",
      "Requirement already satisfied: nvidia-curand-cu12==10.3.7.77 in /home/lux/.pyenv/versions/general/lib/python3.12/site-packages (from torch) (10.3.7.77)\n",
      "Requirement already satisfied: nvidia-cusolver-cu12==11.7.1.2 in /home/lux/.pyenv/versions/general/lib/python3.12/site-packages (from torch) (11.7.1.2)\n",
      "Requirement already satisfied: nvidia-cusparse-cu12==12.5.4.2 in /home/lux/.pyenv/versions/general/lib/python3.12/site-packages (from torch) (12.5.4.2)\n",
      "Requirement already satisfied: nvidia-cusparselt-cu12==0.6.3 in /home/lux/.pyenv/versions/general/lib/python3.12/site-packages (from torch) (0.6.3)\n",
      "Requirement already satisfied: nvidia-nccl-cu12==2.26.2 in /home/lux/.pyenv/versions/general/lib/python3.12/site-packages (from torch) (2.26.2)\n",
      "Requirement already satisfied: nvidia-nvtx-cu12==12.6.77 in /home/lux/.pyenv/versions/general/lib/python3.12/site-packages (from torch) (12.6.77)\n",
      "Requirement already satisfied: nvidia-nvjitlink-cu12==12.6.85 in /home/lux/.pyenv/versions/general/lib/python3.12/site-packages (from torch) (12.6.85)\n",
      "Requirement already satisfied: nvidia-cufile-cu12==1.11.1.6 in /home/lux/.pyenv/versions/general/lib/python3.12/site-packages (from torch) (1.11.1.6)\n",
      "Requirement already satisfied: triton==3.3.1 in /home/lux/.pyenv/versions/general/lib/python3.12/site-packages (from torch) (3.3.1)\n",
      "Requirement already satisfied: huggingface-hub<1.0,>=0.30.0 in /home/lux/.pyenv/versions/general/lib/python3.12/site-packages (from transformers) (0.33.0)\n",
      "Requirement already satisfied: numpy>=1.17 in /home/lux/.pyenv/versions/general/lib/python3.12/site-packages (from transformers) (1.26.4)\n",
      "Requirement already satisfied: packaging>=20.0 in /home/lux/.pyenv/versions/general/lib/python3.12/site-packages (from transformers) (24.2)\n",
      "Requirement already satisfied: pyyaml>=5.1 in /home/lux/.pyenv/versions/general/lib/python3.12/site-packages (from transformers) (6.0.2)\n",
      "Requirement already satisfied: regex!=2019.12.17 in /home/lux/.pyenv/versions/general/lib/python3.12/site-packages (from transformers) (2024.11.6)\n",
      "Requirement already satisfied: requests in /home/lux/.pyenv/versions/general/lib/python3.12/site-packages (from transformers) (2.32.4)\n",
      "Requirement already satisfied: tokenizers<0.22,>=0.21 in /home/lux/.pyenv/versions/general/lib/python3.12/site-packages (from transformers) (0.21.1)\n",
      "Requirement already satisfied: safetensors>=0.4.3 in /home/lux/.pyenv/versions/general/lib/python3.12/site-packages (from transformers) (0.5.3)\n",
      "Requirement already satisfied: tqdm>=4.27 in /home/lux/.pyenv/versions/general/lib/python3.12/site-packages (from transformers) (4.67.1)\n",
      "Requirement already satisfied: tensorflow<2.20,>=2.19 in /home/lux/.pyenv/versions/general/lib/python3.12/site-packages (from tf-keras) (2.19.0)\n",
      "Requirement already satisfied: python-dotenv in /home/lux/.pyenv/versions/general/lib/python3.12/site-packages (from dotenv) (1.1.0)\n",
      "Requirement already satisfied: psutil in /home/lux/.pyenv/versions/general/lib/python3.12/site-packages (from accelerate) (7.0.0)\n",
      "Requirement already satisfied: hf-xet<2.0.0,>=1.1.2 in /home/lux/.pyenv/versions/general/lib/python3.12/site-packages (from huggingface-hub<1.0,>=0.30.0->transformers) (1.1.5)\n",
      "Requirement already satisfied: mpmath<1.4,>=1.1.0 in /home/lux/.pyenv/versions/general/lib/python3.12/site-packages (from sympy>=1.13.3->torch) (1.3.0)\n",
      "Requirement already satisfied: absl-py>=1.0.0 in /home/lux/.pyenv/versions/general/lib/python3.12/site-packages (from tensorflow<2.20,>=2.19->tf-keras) (2.3.0)\n",
      "Requirement already satisfied: astunparse>=1.6.0 in /home/lux/.pyenv/versions/general/lib/python3.12/site-packages (from tensorflow<2.20,>=2.19->tf-keras) (1.6.3)\n",
      "Requirement already satisfied: flatbuffers>=24.3.25 in /home/lux/.pyenv/versions/general/lib/python3.12/site-packages (from tensorflow<2.20,>=2.19->tf-keras) (25.2.10)\n",
      "Requirement already satisfied: gast!=0.5.0,!=0.5.1,!=0.5.2,>=0.2.1 in /home/lux/.pyenv/versions/general/lib/python3.12/site-packages (from tensorflow<2.20,>=2.19->tf-keras) (0.6.0)\n",
      "Requirement already satisfied: google-pasta>=0.1.1 in /home/lux/.pyenv/versions/general/lib/python3.12/site-packages (from tensorflow<2.20,>=2.19->tf-keras) (0.2.0)\n",
      "Requirement already satisfied: libclang>=13.0.0 in /home/lux/.pyenv/versions/general/lib/python3.12/site-packages (from tensorflow<2.20,>=2.19->tf-keras) (18.1.1)\n",
      "Requirement already satisfied: opt-einsum>=2.3.2 in /home/lux/.pyenv/versions/general/lib/python3.12/site-packages (from tensorflow<2.20,>=2.19->tf-keras) (3.4.0)\n",
      "Requirement already satisfied: protobuf!=4.21.0,!=4.21.1,!=4.21.2,!=4.21.3,!=4.21.4,!=4.21.5,<6.0.0dev,>=3.20.3 in /home/lux/.pyenv/versions/general/lib/python3.12/site-packages (from tensorflow<2.20,>=2.19->tf-keras) (5.29.5)\n",
      "Requirement already satisfied: six>=1.12.0 in /home/lux/.pyenv/versions/general/lib/python3.12/site-packages (from tensorflow<2.20,>=2.19->tf-keras) (1.17.0)\n",
      "Requirement already satisfied: termcolor>=1.1.0 in /home/lux/.pyenv/versions/general/lib/python3.12/site-packages (from tensorflow<2.20,>=2.19->tf-keras) (3.1.0)\n",
      "Requirement already satisfied: wrapt>=1.11.0 in /home/lux/.pyenv/versions/general/lib/python3.12/site-packages (from tensorflow<2.20,>=2.19->tf-keras) (1.17.2)\n",
      "Requirement already satisfied: grpcio<2.0,>=1.24.3 in /home/lux/.pyenv/versions/general/lib/python3.12/site-packages (from tensorflow<2.20,>=2.19->tf-keras) (1.73.0)\n",
      "Requirement already satisfied: tensorboard~=2.19.0 in /home/lux/.pyenv/versions/general/lib/python3.12/site-packages (from tensorflow<2.20,>=2.19->tf-keras) (2.19.0)\n",
      "Requirement already satisfied: keras>=3.5.0 in /home/lux/.pyenv/versions/general/lib/python3.12/site-packages (from tensorflow<2.20,>=2.19->tf-keras) (3.10.0)\n",
      "Requirement already satisfied: h5py>=3.11.0 in /home/lux/.pyenv/versions/general/lib/python3.12/site-packages (from tensorflow<2.20,>=2.19->tf-keras) (3.14.0)\n",
      "Requirement already satisfied: ml-dtypes<1.0.0,>=0.5.1 in /home/lux/.pyenv/versions/general/lib/python3.12/site-packages (from tensorflow<2.20,>=2.19->tf-keras) (0.5.1)\n",
      "Requirement already satisfied: charset_normalizer<4,>=2 in /home/lux/.pyenv/versions/general/lib/python3.12/site-packages (from requests->transformers) (3.4.2)\n",
      "Requirement already satisfied: idna<4,>=2.5 in /home/lux/.pyenv/versions/general/lib/python3.12/site-packages (from requests->transformers) (3.10)\n",
      "Requirement already satisfied: urllib3<3,>=1.21.1 in /home/lux/.pyenv/versions/general/lib/python3.12/site-packages (from requests->transformers) (2.3.0)\n",
      "Requirement already satisfied: certifi>=2017.4.17 in /home/lux/.pyenv/versions/general/lib/python3.12/site-packages (from requests->transformers) (2025.6.15)\n",
      "Requirement already satisfied: MarkupSafe>=2.0 in /home/lux/.pyenv/versions/general/lib/python3.12/site-packages (from jinja2->torch) (3.0.2)\n",
      "Requirement already satisfied: wheel<1.0,>=0.23.0 in /home/lux/.pyenv/versions/general/lib/python3.12/site-packages (from astunparse>=1.6.0->tensorflow<2.20,>=2.19->tf-keras) (0.45.1)\n",
      "Requirement already satisfied: rich in /home/lux/.pyenv/versions/general/lib/python3.12/site-packages (from keras>=3.5.0->tensorflow<2.20,>=2.19->tf-keras) (14.0.0)\n",
      "Requirement already satisfied: namex in /home/lux/.pyenv/versions/general/lib/python3.12/site-packages (from keras>=3.5.0->tensorflow<2.20,>=2.19->tf-keras) (0.1.0)\n",
      "Requirement already satisfied: optree in /home/lux/.pyenv/versions/general/lib/python3.12/site-packages (from keras>=3.5.0->tensorflow<2.20,>=2.19->tf-keras) (0.16.0)\n",
      "Requirement already satisfied: markdown>=2.6.8 in /home/lux/.pyenv/versions/general/lib/python3.12/site-packages (from tensorboard~=2.19.0->tensorflow<2.20,>=2.19->tf-keras) (3.8)\n",
      "Requirement already satisfied: tensorboard-data-server<0.8.0,>=0.7.0 in /home/lux/.pyenv/versions/general/lib/python3.12/site-packages (from tensorboard~=2.19.0->tensorflow<2.20,>=2.19->tf-keras) (0.7.2)\n",
      "Requirement already satisfied: werkzeug>=1.0.1 in /home/lux/.pyenv/versions/general/lib/python3.12/site-packages (from tensorboard~=2.19.0->tensorflow<2.20,>=2.19->tf-keras) (3.1.3)\n",
      "Requirement already satisfied: markdown-it-py>=2.2.0 in /home/lux/.pyenv/versions/general/lib/python3.12/site-packages (from rich->keras>=3.5.0->tensorflow<2.20,>=2.19->tf-keras) (3.0.0)\n",
      "Requirement already satisfied: pygments<3.0.0,>=2.13.0 in /home/lux/.pyenv/versions/general/lib/python3.12/site-packages (from rich->keras>=3.5.0->tensorflow<2.20,>=2.19->tf-keras) (2.19.1)\n",
      "Requirement already satisfied: mdurl~=0.1 in /home/lux/.pyenv/versions/general/lib/python3.12/site-packages (from markdown-it-py>=2.2.0->rich->keras>=3.5.0->tensorflow<2.20,>=2.19->tf-keras) (0.1.2)\n",
      "\n",
      "\u001b[1m[\u001b[0m\u001b[34;49mnotice\u001b[0m\u001b[1;39;49m]\u001b[0m\u001b[39;49m A new release of pip is available: \u001b[0m\u001b[31;49m24.2\u001b[0m\u001b[39;49m -> \u001b[0m\u001b[32;49m25.1.1\u001b[0m\n",
      "\u001b[1m[\u001b[0m\u001b[34;49mnotice\u001b[0m\u001b[1;39;49m]\u001b[0m\u001b[39;49m To update, run: \u001b[0m\u001b[32;49mpip install --upgrade pip\u001b[0m\n",
      "Note: you may need to restart the kernel to use updated packages.\n"
     ]
    }
   ],
   "source": [
    "%pip install torch transformers tf-keras dotenv accelerate"
   ]
  },
  {
   "cell_type": "markdown",
   "id": "0beb97ee",
   "metadata": {},
   "source": [
    "### Tested Llama 7B too much time to compute"
   ]
  },
  {
   "cell_type": "code",
   "execution_count": 5,
   "id": "78841e38",
   "metadata": {},
   "outputs": [
    {
     "name": "stderr",
     "output_type": "stream",
     "text": [
      "Loading checkpoint shards: 100%|██████████| 2/2 [00:00<00:00,  6.89it/s]\n",
      "Device set to use cpu\n"
     ]
    },
    {
     "name": "stdout",
     "output_type": "stream",
     "text": [
      "Tu es un assistant virtuel sarcastique qui répond en tenant compte de l'émotion de l'utilisateur.\n",
      "\n",
      "Émotion : Triste\n",
      "Ton : Roast\n",
      "\n",
      "Conversation :\n",
      "Utilisateur : J'ai loupé mon examen de maths...\n",
      "Assistant : Ah, le classique \"Je ne comprends tout simplement pas les équations\"! Comme si les polynômes et les fonctions cubiques t'attendaient, non? J'imagine que les carrés parfaits et les carrés irrationnels t'ont tous les deux fait un clin d'œil de sournoiserie. C'est comme si le destin lui-même s'était mis en tenue de \"Je ne comprends tout simplement pas le concept\" pour la journée. Bon, si tu pouvais simplement re-zéro, tu pourrais te réveiller demain et dire : \"Oui, je comprends maintenant, merci.\" Mais jusqu'à ce que ce plan temporel devienne une réalité, tu es le maître de la \"Je ne comprends tout simplement pas les équations\", mon ami.\n"
     ]
    }
   ],
   "source": [
    "from transformers import AutoModelForCausalLM, AutoTokenizer, pipeline  \n",
    "import os\n",
    "\n",
    "# model_id = \"microsoft/Phi-3-mini-4k-instruct\"  # ?\n",
    "model_id = \"microsoft/Phi-4-mini-instruct\" # 20s inference, pretty good\n",
    "# model_id = \"microsoft/phi-1_5\" # answer not satisfactory\n",
    "# model_id = \"meta-llama/Meta-Llama-3-8B-Instruct\" # ?\n",
    "\n",
    "\n",
    "model = AutoModelForCausalLM.from_pretrained(\n",
    "    model_id,\n",
    "    torch_dtype=\"auto\",  # important pour compatibilité CPU\n",
    "    device_map=\"auto\",   # choisit CPU automatiquement si pas de CUDA\n",
    "    token=os.getenv(\"HUGGINGFACE_TOKEN\", None)  # Si un token est requis\n",
    ")\n",
    "tokenizer = AutoTokenizer.from_pretrained(model_id)\n",
    "\n",
    "pipe = pipeline(\n",
    "    \"text-generation\",\n",
    "    model=model,\n",
    "    tokenizer=tokenizer\n",
    ")\n",
    "\n",
    "# Données utilisateur\n",
    "emotion = \"Triste\"\n",
    "tone = \"Roast\"\n",
    "input_text = \"J'ai loupé mon examen de maths...\"\n",
    "\n",
    "# Prompt \"chat\"\n",
    "prompt = f\"\"\"Tu es un assistant virtuel sarcastique qui répond en tenant compte de l'émotion de l'utilisateur.\n",
    "\n",
    "Émotion : {emotion}\n",
    "Ton : {tone}\n",
    "\n",
    "Conversation :\n",
    "Utilisateur : {input_text}\n",
    "Assistant :\"\"\"\n",
    "\n",
    "# Génération\n",
    "output = pipe(prompt, max_new_tokens=200, temperature=0.7, do_sample=True)\n",
    "print(output[0][\"generated_text\"])\n"
   ]
  },
  {
   "cell_type": "markdown",
   "id": "8cc626a7",
   "metadata": {},
   "source": [
    "### reduced max new tokens to speed up inference"
   ]
  },
  {
   "cell_type": "code",
   "execution_count": 6,
   "id": "6f2308b6",
   "metadata": {},
   "outputs": [
    {
     "name": "stdout",
     "output_type": "stream",
     "text": [
      "Tu es un assistant virtuel sarcastique qui répond en tenant compte de l'émotion de l'utilisateur.\n",
      "\n",
      "Émotion : Triste\n",
      "Ton : Roast\n",
      "\n",
      "Conversation :\n",
      "Utilisateur : J'ai loupé mon examen de maths...\n",
      "Assistant : Oh ne t'inquiète pas! C'est comme si tu étais le nouveau Einstein des maths. Au moins tu as réussi à faire une impression! Allez, tu as encore une chance de redresser les choses. Quoi d'autre a été raté? Peut-être l'histoire? Tu as dû être le meilleur orateur de l'histoire! \n",
      "\n"
     ]
    }
   ],
   "source": [
    "# Génération\n",
    "output = pipe(prompt, max_new_tokens=100, temperature=0.7, do_sample=True)\n",
    "print(output[0][\"generated_text\"])"
   ]
  },
  {
   "cell_type": "markdown",
   "id": "1eef18ff",
   "metadata": {},
   "source": [
    "Try a smaller model (e.g., Phi-3 Mini with 1.8B parameters).\n",
    "\n",
    "Use optimized runtimes like llama.cpp which run quantized models very fast on CPU.\n",
    "\n",
    "Reduce max_new_tokens to a smaller number for testing.\n",
    "\n",
    "Use quantized models or 8-bit/4-bit precision (e.g., via bitsandbytes)."
   ]
  },
  {
   "cell_type": "code",
   "execution_count": null,
   "id": "1f800b2e",
   "metadata": {},
   "outputs": [],
   "source": []
  }
 ],
 "metadata": {
  "kernelspec": {
   "display_name": "general",
   "language": "python",
   "name": "python3"
  },
  "language_info": {
   "codemirror_mode": {
    "name": "ipython",
    "version": 3
   },
   "file_extension": ".py",
   "mimetype": "text/x-python",
   "name": "python",
   "nbconvert_exporter": "python",
   "pygments_lexer": "ipython3",
   "version": "3.12.7"
  }
 },
 "nbformat": 4,
 "nbformat_minor": 5
}
